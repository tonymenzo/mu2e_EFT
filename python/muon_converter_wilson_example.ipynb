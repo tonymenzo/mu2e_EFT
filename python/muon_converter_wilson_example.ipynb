{
 "cells": [
  {
   "cell_type": "code",
   "execution_count": 1,
   "id": "5d3af1b8-f040-40b5-aebe-0f37b96f2a12",
   "metadata": {},
   "outputs": [],
   "source": [
    "import wilson\n",
    "import numpy as np\n",
    "from tqdm import tqdm\n",
    "import matplotlib.pyplot as plt\n",
    "\n",
    "import seaborn as sns\n",
    "sns.set()\n",
    "sns.set_style(\"ticks\")\n",
    "sns.set_context(\"paper\", font_scale = 1.8)\n",
    "plt.rcParams['text.usetex'] = True\n",
    "plt.rcParams['font.size'] = 25"
   ]
  },
  {
   "cell_type": "code",
   "execution_count": 2,
   "id": "3d7fd12a-1378-43a1-91df-2d47e165703d",
   "metadata": {},
   "outputs": [],
   "source": [
    "# Set initial coefficients and basis in the UV\n",
    "wc_UV = {'lq1_1211': 1e-6}\n",
    "E_UV = 1e3 # GeV\n",
    "eft_UV = 'SMEFT'\n",
    "basis_UV = 'Warsaw'"
   ]
  },
  {
   "cell_type": "code",
   "execution_count": 3,
   "id": "3805b7e2-8bf8-4697-97b6-2497f384965d",
   "metadata": {},
   "outputs": [],
   "source": [
    "# Initialize Wilson object\n",
    "willy = wilson.Wilson(wc_UV, scale = E_UV, eft = eft_UV, basis = basis_UV)\n",
    "# Choose RGE evolution scheme ['integrate' or 'leadinglog']\n",
    "willy.set_option('smeft_accuracy', 'integrate') "
   ]
  },
  {
   "cell_type": "code",
   "execution_count": 4,
   "id": "0a76df20-322c-41a0-9190-a608b20ccbf6",
   "metadata": {},
   "outputs": [
    {
     "name": "stderr",
     "output_type": "stream",
     "text": [
      "100%|██████████████████████████████████| 100/100 [00:02<00:00, 46.01it/s]\n"
     ]
    }
   ],
   "source": [
    "# Define the energies to run to (there is a better way to do this with run_continuous)\n",
    "E = np.linspace(E_UV, 2, 100) # GeV\n",
    "eft_IR = 'WET-3'\n",
    "basis_IR = 'JMS'\n",
    "\n",
    "# Initialize list with relevant WET-3 operators\n",
    "mue_sector = ['egamma_12', 'VeuLL_1211', 'VedLL_1211', 'VedLL_1222', 'VeuRR_1211', 'VedRR_1211', 'VedRR_1222', 'VeuLR_1211', 'VedLR_1211', 'VedLR_1222','VueLR_1112',\n",
    "              'VdeLR_1112', 'VdeLR_2212', 'SeuRL_1211', 'SedRL_1211', 'SedRL_1222', 'SeuRR_1211', 'SedRR_1211', 'SedRR_1222', 'TeuRR_1211', 'TedRR_1211', 'TedRR_1222']\n",
    "# Initialize WET-3 coefficient dictionary for plotting\n",
    "mue_operator_dict = {'egamma_12':[], 'VeuLL_1211':[], 'VedLL_1211':[], 'VedLL_1222':[], 'VeuRR_1211':[], 'VedRR_1211':[], 'VedRR_1222':[], 'VeuLR_1211':[],\n",
    "                 'VedLR_1211':[], 'VedLR_1222':[],'VueLR_1112':[], 'VdeLR_1112':[], 'VdeLR_2212':[], 'SeuRL_1211':[], 'SedRL_1211':[], 'SedRL_1222':[], \n",
    "                 'SeuRR_1211':[], 'SedRR_1211':[], 'SedRR_1222':[], 'TeuRR_1211':[], 'TedRR_1211':[], 'TedRR_1222':[]}\n",
    "\n",
    "for e in tqdm(E):\n",
    "    wc_i = willy.match_run(scale = e, eft = eft_IR, basis = basis_IR, sectors = 'mue')\n",
    "    for keys in mue_sector:\n",
    "        mue_operator_dict[keys].append(wc_i[keys])\n",
    "\n",
    "# Convert dictionary lists to numpy arrays\n",
    "for keys in mue_sector:\n",
    "        mue_operator_dict[keys] = np.array(mue_operator_dict[keys])"
   ]
  },
  {
   "cell_type": "code",
   "execution_count": 5,
   "id": "0352bcd5-b91a-417f-a2b4-fed37f5eb410",
   "metadata": {},
   "outputs": [
    {
     "name": "stdout",
     "output_type": "stream",
     "text": [
      "egamma_12 (-1.7079326909949972e-14+1.643969062296765e-26j)\n",
      "VeuLL_1211 (-9.86608329636326e-07+3.943280779021029e-21j)\n",
      "VedLL_1211 (-9.749664580063736e-07+3.896745273440699e-21j)\n",
      "VedLL_1222 (-1.865024960543527e-09+7.448929797995061e-24j)\n",
      "VeuRR_1211 (1.962470641316426e-19-7.908496965555636e-34j)\n",
      "VedRR_1211 (-9.649019355410305e-20+3.888010634668782e-34j)\n",
      "VedRR_1222 (-9.649019286941388e-20+3.862054221356606e-34j)\n",
      "VeuLR_1211 (3.691800453757848e-09-1.4750892246946337e-23j)\n",
      "VedLR_1211 (-1.8761765042619403e-09+7.496393202130622e-24j)\n",
      "VedLR_1222 (-1.8761764978191178e-09+7.544836522431197e-24j)\n",
      "VueLR_1112 (-5.0951795357744733e-17+2.0422733754098304e-31j)\n",
      "VdeLR_1112 (-5.56436262970416e-17+2.2303226542330703e-31j)\n",
      "VdeLR_2212 (-9.778629492567272e-20+3.930145774821915e-34j)\n",
      "SeuRL_1211 was not generated\n",
      "SedRL_1211 (4.648505047610797e-16-1.858240733188174e-30j)\n",
      "SedRL_1222 (-2.976218355249423e-17-2.875903390249634e-30j)\n",
      "SeuRR_1211 (-2.3306413461352105e-16+4.172644308756877e-28j)\n",
      "SedRR_1211 was not generated\n",
      "SedRR_1222 was not generated\n",
      "TeuRR_1211 (2.6411331256768714e-17-1.2659546156017477e-29j)\n",
      "TedRR_1211 was not generated\n",
      "TedRR_1222 was not generated\n"
     ]
    }
   ],
   "source": [
    "# Print all of the coefficients in the mue sector\n",
    "for key in mue_sector:\n",
    "    try:\n",
    "        print(key, wc_i.dict[key])\n",
    "    except:\n",
    "        print(key, 'was not generated')\n",
    "        wc_i.dict[key] = 0."
   ]
  },
  {
   "cell_type": "code",
   "execution_count": 6,
   "id": "9d58ffc4-0903-4f7e-904b-a54234182c22",
   "metadata": {},
   "outputs": [
    {
     "data": {
      "image/png": "[encoded data removed]",
      "text/plain": [
       "<Figure size 600x500 with 1 Axes>"
      ]
     },
     "metadata": {},
     "output_type": "display_data"
    }
   ],
   "source": [
    "# Plot the largest two WCs\n",
    "fig, ax = plt.subplots(1,1,figsize = (6,5))\n",
    "ax.plot(E, np.real(mue_operator_dict['VeuLL_1211']), label = r'$\\mathtt{VeuLL\\_1211}$')\n",
    "ax.plot(E, np.real(mue_operator_dict['VedLL_1211']), label = r'$\\mathtt{VedLL\\_1211}$')\n",
    "ax.set_xlim(ax.get_xlim()[::-1])\n",
    "ax.set_xlabel(r'$E$')\n",
    "ax.legend(frameon = False)\n",
    "fig.tight_layout()"
   ]
  },
  {
   "cell_type": "code",
   "execution_count": 7,
   "id": "bbe015e2-8354-4941-9fac-72baa5baac38",
   "metadata": {},
   "outputs": [],
   "source": [
    "# Define the translation to the MuonConverter basis\n",
    "def JMS_to_muonConverter(wet3_dict):\n",
    "    \"\"\"\n",
    "    Given a Wilson coefficient dictionary in the WET-3 JMS basis (wet3), convert\n",
    "    to the MuonConverter (mc) basis.\n",
    "\n",
    "    Input:\n",
    "    wet3_dict (dictionary): Dictionary composed of mue sector numerical Wilson coefficients in the WET-3 JMS basis.\n",
    "\n",
    "    Output:\n",
    "    wc_dict (dictionary): Dictionary containing translated coefficients now in the MuonConverter basis\n",
    "    \"\"\"\n",
    "    # Initialize a MuonConverter dictionary\n",
    "    mc_dict = {'Tegamma_12': 0., 'ATegamma_12': 0., 'VVeu_1211': 0., 'VVed_1211': 0., 'VVed_1222': 0., 'AVVeu_1211': 0., 'AVVed_1211': 0., 'AVVed_1222': 0.,\n",
    "               'VAVeu_1211': 0., 'VAVed_1211': 0., 'VAVed_1222': 0., 'AVAVeu_1211': 0., 'AVAVed_1211': 0., 'AVAVed_1222': 0., 'SSeu_1211': 0., 'SSed_1211': 0.,\n",
    "               'SSed_1222': 0., 'ASeu_1211': 0., 'ASed_1211': 0., 'ASed_1222': 0., 'SAeu_1211': 0., 'SAed_1211': 0., 'SAed_1222': 0., 'AAeu_1211': 0.,\n",
    "               'AAed_1211': 0., 'AAed_1222': 0., 'TTeu_1211': 0., 'TTed_1211': 0., 'TTed_1222': 0., 'ATTeu_1211': 0., 'ATTed_1211': 0., 'ATTed_1222': 0.}\n",
    "\n",
    "    mc_dict['Tegamma_12'] = 4. * np.pi**2 * wet3_dict['egamma_12']\n",
    "    mc_dict['ATegamma_12'] = - 4. * np.pi**2 * 1j * wet3_dict['egamma_12']\n",
    "    \n",
    "    mc_dict['VVeu_1211'] = (wet3_dict['VeuLL_1211'] + wet3_dict['VeuRR_1211'] + wet3_dict['VeuLR_1211'] + wet3_dict['VueLR_1112']) / 4.\n",
    "    mc_dict['VVed_1211'] = (wet3_dict['VedLL_1211'] + wet3_dict['VedRR_1211'] + wet3_dict['VedLR_1211'] + wet3_dict['VdeLR_1112']) / 4.\n",
    "    mc_dict['VVed_1222'] = (wet3_dict['VedLL_1222'] + wet3_dict['VedRR_1222'] + wet3_dict['VedLR_1222'] + wet3_dict['VdeLR_2212']) / 4.\n",
    "    \n",
    "    mc_dict['AVVeu_1211'] = (-wet3_dict['VeuLL_1211'] + wet3_dict['VeuRR_1211'] + wet3_dict['VeuLR_1211'] - wet3_dict['VueLR_1112']) / 4.\n",
    "    mc_dict['AVVed_1211'] = (-wet3_dict['VedLL_1211'] + wet3_dict['VedRR_1211'] + wet3_dict['VedLR_1211'] - wet3_dict['VdeLR_1112']) / 4.\n",
    "    mc_dict['AVVed_1222'] = (-wet3_dict['VedLL_1222'] + wet3_dict['VedRR_1222'] + wet3_dict['VedLR_1222'] - wet3_dict['VdeLR_2212']) / 4.\n",
    "    \n",
    "    mc_dict['VAVeu_1211'] = (-wet3_dict['VeuLL_1211'] + wet3_dict['VeuRR_1211'] - wet3_dict['VeuLR_1211'] + wet3_dict['VueLR_1112']) / 4.\n",
    "    mc_dict['VAVed_1211'] = (-wet3_dict['VedLL_1211'] + wet3_dict['VedRR_1211'] - wet3_dict['VedLR_1211'] + wet3_dict['VdeLR_1112']) / 4.\n",
    "    mc_dict['VAVed_1222'] = (-wet3_dict['VedLL_1222'] + wet3_dict['VedRR_1222'] - wet3_dict['VedLR_1222'] + wet3_dict['VdeLR_2212']) / 4.\n",
    "\n",
    "    mc_dict['AVAVeu_1211'] = (wet3_dict['VeuLL_1211'] + wet3_dict['VeuRR_1211'] - wet3_dict['VeuLR_1211'] - wet3_dict['VueLR_1112']) / 4.\n",
    "    mc_dict['AVAVed_1211'] = (wet3_dict['VedLL_1211'] + wet3_dict['VedRR_1211'] - wet3_dict['VedLR_1211'] - wet3_dict['VdeLR_1112']) / 4.\n",
    "    mc_dict['AVAVed_1222'] = (wet3_dict['VedLL_1222'] + wet3_dict['VedRR_1222'] - wet3_dict['VedLR_1222'] - wet3_dict['VdeLR_2212']) / 4.\n",
    "\n",
    "    mc_dict['SSeu_1211'] = (wet3_dict['SeuRL_1211'] + wet3_dict['SeuRL_1211']) / 4.\n",
    "    mc_dict['SSed_1211'] = (wet3_dict['SedRL_1211'] + wet3_dict['SedRL_1211']) / 4.\n",
    "    mc_dict['SSed_1222'] = (wet3_dict['SedRL_1211'] + wet3_dict['SedRL_1222']) / 4.\n",
    "\n",
    "    mc_dict['ASeu_1211'] = -1j * (wet3_dict['SeuRL_1211'] + wet3_dict['SeuRR_1211']) / 4.\n",
    "    mc_dict['ASed_1211'] = -1j * (wet3_dict['SedRL_1211'] + wet3_dict['SedRR_1211']) / 4.\n",
    "    mc_dict['ASed_1222'] = -1j * (wet3_dict['SedRL_1222'] + wet3_dict['SedRR_1222']) / 4.\n",
    "\n",
    "    mc_dict['SAeu_1211'] = 1j * (wet3_dict['SeuRL_1211'] - wet3_dict['SeuRR_1211']) / 4.\n",
    "    mc_dict['SAed_1211'] = 1j * (wet3_dict['SedRL_1211'] - wet3_dict['SedRR_1211']) / 4.\n",
    "    mc_dict['SAed_1222'] = 1j * (wet3_dict['SedRL_1222'] - wet3_dict['SedRR_1222']) / 4.\n",
    "\n",
    "    mc_dict['AAeu_1211'] = (wet3_dict['SeuRL_1211'] - wet3_dict['SeuRR_1211']) / 4.\n",
    "    mc_dict['AAed_1211'] = (wet3_dict['SedRL_1211'] - wet3_dict['SedRR_1211']) / 4.\n",
    "    mc_dict['AAed_1222'] = (wet3_dict['SedRL_1222'] - wet3_dict['SedRR_1222']) / 4.\n",
    "\n",
    "    mc_dict['TTeu_1211'] = wet3_dict['TeuRR_1211'] / 4.\n",
    "    mc_dict['TTed_1211'] = wet3_dict['TedRR_1211'] / 4.\n",
    "    mc_dict['TTed_1222'] = wet3_dict['TedRR_1222'] / 4.\n",
    "\n",
    "    mc_dict['ATTeu_1211'] = wet3_dict['TeuRR_1211'] / 4.\n",
    "    mc_dict['ATTed_1211'] = wet3_dict['TedRR_1211'] / 4.\n",
    "    mc_dict['ATTed_1222'] = wet3_dict['TedRR_1222'] / 4.\n",
    "\n",
    "    return mc_dict"
   ]
  },
  {
   "cell_type": "code",
   "execution_count": 8,
   "id": "5b5ec0f2-01e4-48e1-aafb-2d8313d6e985",
   "metadata": {},
   "outputs": [
    {
     "name": "stdout",
     "output_type": "stream",
     "text": [
      "Tegamma_12 (-6.742648001523446e-13+6.4901297169995595e-25j)\n",
      "ATegamma_12 (6.4901297169995595e-25+6.742648001523446e-13j)\n",
      "VVeu_1211 (-2.457291323083309e-07+9.821324717443798e-22j)\n",
      "VVed_1211 (-2.4421065864159394e-07+9.760604167165627e-22j)\n",
      "VVed_1222 (-9.353003646392303e-10+3.7484415803013694e-24j)\n",
      "AVVeu_1211 (2.4757503253530796e-07-9.895079178682484e-22j)\n",
      "AVVed_1211 (2.432725703894147e-07-9.723122201153029e-22j)\n",
      "AVVed_1222 (-2.7878843185736368e-12+2.397668110733174e-26j)\n",
      "VAVeu_1211 (2.4572913228295315e-07-9.821324716426614e-22j)\n",
      "VAVed_1211 (2.442106586137238e-07-9.76060416604852e-22j)\n",
      "VAVed_1222 (9.353003645420922e-10-3.748441579911759e-24j)\n",
      "AVAVeu_1211 (-2.475750325097339e-07+9.895079177657393e-22j)\n",
      "AVAVed_1211 (-2.432725703616411e-07+9.723122200039811e-22j)\n",
      "AVAVed_1222 (2.787884319221682e-12-2.3976681110736163e-26j)\n",
      "SSeu_1211 0.0\n",
      "SSed_1211 (2.3242525238053986e-16-9.29120366594087e-31j)\n",
      "SSed_1222 (1.0877208030214637e-16-1.183536030859452e-30j)\n",
      "ASeu_1211 (1.0431610771892193e-28+5.826603365338026e-17j)\n",
      "ASed_1211 (-4.645601832970435e-31-1.1621262619026993e-16j)\n",
      "ASed_1222 (-7.189758475624085e-31+7.440545888123557e-18j)\n",
      "SAeu_1211 (1.0431610771892193e-28+5.826603365338026e-17j)\n",
      "SAed_1211 (4.645601832970435e-31+1.1621262619026993e-16j)\n",
      "SAed_1222 (7.189758475624085e-31-7.440545888123557e-18j)\n",
      "AAeu_1211 (5.826603365338026e-17-1.0431610771892193e-28j)\n",
      "AAed_1211 (1.1621262619026993e-16-4.645601832970435e-31j)\n",
      "AAed_1222 (-7.440545888123557e-18-7.189758475624085e-31j)\n",
      "TTeu_1211 (6.6028328141921786e-18-3.164886539004369e-30j)\n",
      "TTed_1211 0.0\n",
      "TTed_1222 0.0\n",
      "ATTeu_1211 (6.6028328141921786e-18-3.164886539004369e-30j)\n",
      "ATTed_1211 0.0\n",
      "ATTed_1222 0.0\n"
     ]
    }
   ],
   "source": [
    "# Generate a single point in coefficient space\n",
    "wc_i = willy.match_run(scale = 2, eft = eft_IR, basis = basis_IR, sectors = 'mue')\n",
    "for keys in mue_sector:\n",
    "    mue_operator_dict[keys] = wc_i[keys]\n",
    "\n",
    "# Convert to MuonConverter basis\n",
    "mc_mue_operator_dict = JMS_to_muonConverter(mue_operator_dict)\n",
    "\n",
    "# Print all of the coefficients in the translated dictionary\n",
    "for k, v in mc_mue_operator_dict.items():\n",
    "    print(k, v)"
   ]
  },
  {
   "cell_type": "code",
   "execution_count": 9,
   "id": "002b229d-bab9-452f-a833-25bc64118e60",
   "metadata": {},
   "outputs": [],
   "source": [
    "import mu2e_matching"
   ]
  },
  {
   "cell_type": "code",
   "execution_count": 10,
   "id": "80e48601-2492-4fdf-9c68-ea917305de62",
   "metadata": {},
   "outputs": [],
   "source": [
    "# Create one final conversion dictionary for input\n",
    "mc_dict = {'C51': mc_mue_operator_dict['Tegamma_12'], 'C52': mc_mue_operator_dict['ATegamma_12'], \n",
    "           'C61u': mc_mue_operator_dict['VVeu_1211'], 'C61d': mc_mue_operator_dict['VVed_1211'], 'C61s': mc_mue_operator_dict['VVed_1222'], \n",
    "           'C62u': mc_mue_operator_dict['AVVeu_1211'], 'C62d': mc_mue_operator_dict['AVVed_1211'], 'C62s': mc_mue_operator_dict['AVVed_1222'], \n",
    "           'C63u': mc_mue_operator_dict['VAVeu_1211'], 'C63d': mc_mue_operator_dict['VAVed_1211'], 'C63s': mc_mue_operator_dict['VAVed_1222'], \n",
    "           'C64u': mc_mue_operator_dict['AVAVeu_1211'], 'C64d': mc_mue_operator_dict['AVAVed_1211'], 'C64s': mc_mue_operator_dict['AVAVed_1222'],\n",
    "           'C65u': mc_mue_operator_dict['SSeu_1211'], 'C65d': mc_mue_operator_dict['SSed_1211'], 'C65s': mc_mue_operator_dict['SSed_1222'],\n",
    "           'C67u': mc_mue_operator_dict['ASeu_1211'], 'C67d': mc_mue_operator_dict['ASed_1211'], 'C67s': mc_mue_operator_dict['ASed_1222'],\n",
    "           'C66u': mc_mue_operator_dict['SAeu_1211'], 'C66d': mc_mue_operator_dict['SAed_1211'], 'C66s': mc_mue_operator_dict['SAed_1222'],\n",
    "           'C68u': mc_mue_operator_dict['AAeu_1211'], 'C68d': mc_mue_operator_dict['AAed_1211'], 'C68s': mc_mue_operator_dict['AAed_1222'],\n",
    "           'C69u': mc_mue_operator_dict['TTeu_1211'], 'C69d': mc_mue_operator_dict['TTed_1211'], 'C69s': mc_mue_operator_dict['TTed_1222'],\n",
    "           'C610u': mc_mue_operator_dict['ATTeu_1211'], 'C610d': mc_mue_operator_dict['ATTed_1211'], 'C610s': mc_mue_operator_dict['ATTed_1222']}            "
   ]
  },
  {
   "cell_type": "code",
   "execution_count": 11,
   "id": "e25c3936-9850-400f-98fa-91a70f2ffafc",
   "metadata": {},
   "outputs": [
    {
     "name": "stdout",
     "output_type": "stream",
     "text": [
      "Parton-level Wilson coefficients:  {'C51': (-6.742648001523446e-13+6.4901297169995595e-25j), 'C52': (6.4901297169995595e-25+6.742648001523446e-13j), 'C61u': (-2.457291323083309e-07+9.821324717443798e-22j), 'C61d': (-2.4421065864159394e-07+9.760604167165627e-22j), 'C61s': (-9.353003646392303e-10+3.7484415803013694e-24j), 'C62u': (2.4757503253530796e-07-9.895079178682484e-22j), 'C62d': (2.432725703894147e-07-9.723122201153029e-22j), 'C62s': (-2.7878843185736368e-12+2.397668110733174e-26j), 'C63u': (2.4572913228295315e-07-9.821324716426614e-22j), 'C63d': (2.442106586137238e-07-9.76060416604852e-22j), 'C63s': (9.353003645420922e-10-3.748441579911759e-24j), 'C64u': (-2.475750325097339e-07+9.895079177657393e-22j), 'C64d': (-2.432725703616411e-07+9.723122200039811e-22j), 'C64s': (2.787884319221682e-12-2.3976681110736163e-26j), 'C65u': 0.0, 'C65d': (2.3242525238053986e-16-9.29120366594087e-31j), 'C65s': (1.0877208030214637e-16-1.183536030859452e-30j), 'C66u': (1.0431610771892193e-28+5.826603365338026e-17j), 'C66d': (4.645601832970435e-31+1.1621262619026993e-16j), 'C66s': (7.189758475624085e-31-7.440545888123557e-18j), 'C67u': (1.0431610771892193e-28+5.826603365338026e-17j), 'C67d': (-4.645601832970435e-31-1.1621262619026993e-16j), 'C67s': (-7.189758475624085e-31+7.440545888123557e-18j), 'C68u': (5.826603365338026e-17-1.0431610771892193e-28j), 'C68d': (1.1621262619026993e-16-4.645601832970435e-31j), 'C68s': (-7.440545888123557e-18-7.189758475624085e-31j), 'C69u': (6.6028328141921786e-18-3.164886539004369e-30j), 'C69d': 0.0, 'C69s': 0.0, 'C610u': (6.6028328141921786e-18-3.164886539004369e-30j), 'C610d': 0.0, 'C610s': 0.0, 'C71': 0.0, 'C72': 0.0, 'C73': 0.0, 'C74': 0.0, 'C75': 0.0, 'C76': 0.0, 'C77': 0.0, 'C78': 0.0, 'C79u': 0.0, 'C79d': 0.0, 'C79s': 0.0, 'C710u': 0.0, 'C710d': 0.0, 'C710s': 0.0, 'C711u': 0.0, 'C711d': 0.0, 'C711s': 0.0, 'C712u': 0.0, 'C712d': 0.0, 'C712s': 0.0, 'C713u': 0.0, 'C713d': 0.0, 'C713s': 0.0, 'C714u': 0.0, 'C714d': 0.0, 'C714s': 0.0, 'C715u': 0.0, 'C715d': 0.0, 'C715s': 0.0, 'C716u': 0.0, 'C716d': 0.0, 'C716s': 0.0}\n"
     ]
    }
   ],
   "source": [
    "# Initialize an instance of the 3-flavor Wilson coefficient class. \n",
    "wc3f = mu2e_matching.WC_3f(mc_dict)\n",
    "print('Parton-level Wilson coefficients: ', wc3f.coeff_dict)\n",
    "\n",
    "# The main method is to output the NR coefficients. \n",
    "q = np.array([0., 1.3, 1.2, 1.2])\n",
    "\n",
    "wc3f_nucleon = wc3f.match_nucleon_basis(q = q)\n",
    "#print('Nucleon-level Wilson coefficients: ', wc3f_nucleon)\n",
    "\n",
    "# We can create the relevant yaml file and run the decay rate computation\n",
    "element     = 'Al'\n",
    "isotope     = 0\n",
    "interaction = 'bw'\n",
    "oscb        = 0\n",
    "isochar     = 'proton'\n",
    "plots       = 'none'\n",
    "path = './wcN.yaml'\n",
    "\n",
    "wc3f.write_yaml(q = q, element = element, isotope = isotope, interaction = interaction, oscb = oscb, isochar = isochar, plots = plots, path = path)"
   ]
  },
  {
   "cell_type": "code",
   "execution_count": 12,
   "id": "d89bf012-3a26-42a5-b75e-911a935f1150",
   "metadata": {},
   "outputs": [],
   "source": [
    "from mu2e_relativistic import compute_decay_rate"
   ]
  },
  {
   "cell_type": "code",
   "execution_count": 13,
   "id": "5ada439d-cdbe-45d2-8c9c-00be4e5fc084",
   "metadata": {},
   "outputs": [],
   "source": [
    "decay_rate = compute_decay_rate('wcN.yaml')"
   ]
  },
  {
   "cell_type": "code",
   "execution_count": 14,
   "id": "21444856-397c-4785-87b9-ee80fce1d18a",
   "metadata": {},
   "outputs": [
    {
     "name": "stdout",
     "output_type": "stream",
     "text": [
      "4.538213575332675e-05\n"
     ]
    }
   ],
   "source": [
    "print(decay_rate)"
   ]
  },
  {
   "cell_type": "code",
   "execution_count": 15,
   "id": "6a1b6a3d-44a9-4d0d-8816-c3a3f5331301",
   "metadata": {},
   "outputs": [
    {
     "name": "stdout",
     "output_type": "stream",
     "text": [
      "Processing wcN.yaml\n",
      "Found element Aluminum, symbol Al\n",
      "Elastic/Al27_bw.txt\n",
      "testFM needs Sulfer selected\n",
      "testWM needs Copper selected\n",
      "{'AbNorm': array([1.]),\n",
      " 'Abar': 27.0,\n",
      " 'Ebind': 0.462953,\n",
      " 'Element': 'Aluminum',\n",
      " 'Interaction': 'bw',\n",
      " 'InteractionReport': 'Brown-Wildenthal',\n",
      " 'Isotope': 0,\n",
      " 'Mbar': 25133.141755999997,\n",
      " 'RZ2': 208.36206871175244,\n",
      " 'Z': 13,\n",
      " 'Zeff': 11.3086,\n",
      " 'bs': [],\n",
      " 'cs': [],\n",
      " 'ds': [[1, 1.7540467156209856e-15, -9.953972264691222e-17],\n",
      "        [2, -3.2739462498922585e-23, -7.868864455374129e-25],\n",
      "        [3, 7.765031117411569e-28, 4.809553920369596e-29],\n",
      "        [4, -8.318550469828555e-09, -5.528195136969765e-10],\n",
      "        [5, -7.349096864248872e-07, -7.592368333685021e-10],\n",
      "        [6, -5.2930332829155336e-08, 1.4068658522317912e-09],\n",
      "        [7, 1.0775401848450994e-07, 9.684825062344825e-10],\n",
      "        [8, 0.0, 0.0],\n",
      "        [9, 1.6088952135972456e-16, 1.6088952135972456e-16],\n",
      "        [10, 1.930674256316691e-17, -5.962565661591392e-16],\n",
      "        [11, -0.0, 0.0],\n",
      "        [12, 0.0, 0.0],\n",
      "        [13, 7.36271404387084e-07, 2.1512310729466575e-09],\n",
      "        [14, 5.3011490933952273e-08, -3.9862311781701355e-09],\n",
      "        [15, -1.0798657020765368e-07, -2.744110358053582e-09],\n",
      "        [16, 0.0, 0.0],\n",
      "        [17, 1.5486406282734275e-28, 1.5486406282734275e-28],\n",
      "        [18, 9.291843769640564e-30, -2.8696310841906615e-28],\n",
      "        [19, 0.0, 0.0],\n",
      "        [20, 0.0, 0.0]],\n",
      " 'fgAvg': -0.029,\n",
      " 'isochar': 'proton',\n",
      " 'mL': 0.938918747,\n",
      " 'mu': 105.21605287550385,\n",
      " 'oscb': 1.8419431439256058,\n",
      " 'plots': 'none',\n",
      " 'qeff': 110.809,\n",
      " 'qval': 104.97376076466247,\n",
      " 'symbol': 'Al'}\n",
      "  Decay rate = 4.538214e-05/sec\n"
     ]
    }
   ],
   "source": [
    "# Check answer with command line\n",
    "!python3.9 mu2e_relativistic_terminal.py wcN.yaml"
   ]
  },
  {
   "cell_type": "code",
   "execution_count": 16,
   "id": "3e015b67-e836-4ca1-a949-c76476e4682f",
   "metadata": {},
   "outputs": [
    {
     "name": "stderr",
     "output_type": "stream",
     "text": [
      "100%|██████████████████████████████████| 100/100 [02:17<00:00,  1.37s/it]\n"
     ]
    }
   ],
   "source": [
    "# Finally, it is typically useful to perform a scan over initial WC values -- we illustrate this here:\n",
    "\n",
    "# Define a range of initial values for a single WC coefficients\n",
    "lq1_1211 = np.linspace(1e-10, 1e-3, 100) # GeV\n",
    "E_UV = 1e3 # GeV\n",
    "eft_UV = 'SMEFT'\n",
    "basis_UV = 'Warsaw'\n",
    "E_IR = 2 # GeV\n",
    "eft_IR = 'WET-3'\n",
    "basis_IR = 'JMS'\n",
    "\n",
    "# Initialize list with relevant WET-3 operators\n",
    "mue_sector = ['egamma_12', 'VeuLL_1211', 'VedLL_1211', 'VedLL_1222', 'VeuRR_1211', 'VedRR_1211', 'VedRR_1222', 'VeuLR_1211', \n",
    "              'VedLR_1211', 'VedLR_1222', 'VueLR_1112', 'VdeLR_1112', 'VdeLR_2212', 'SeuRL_1211', 'SedRL_1211', 'SedRL_1222',\n",
    "              'SeuRR_1211', 'SedRR_1211', 'SedRR_1222', 'TeuRR_1211', 'TedRR_1211', 'TedRR_1222']\n",
    "# Initialize WET-3 coefficient dictionary for plotting\n",
    "mue_operator_dict = {'egamma_12':[], 'VeuLL_1211':[], 'VedLL_1211':[], 'VedLL_1222':[], 'VeuRR_1211':[], 'VedRR_1211':[], 'VedRR_1222':[], 'VeuLR_1211':[],\n",
    "                 'VedLR_1211':[], 'VedLR_1222':[],'VueLR_1112':[], 'VdeLR_1112':[], 'VdeLR_2212':[], 'SeuRL_1211':[], 'SedRL_1211':[], 'SedRL_1222':[], \n",
    "                 'SeuRR_1211':[], 'SedRR_1211':[], 'SedRR_1222':[], 'TeuRR_1211':[], 'TedRR_1211':[], 'TedRR_1222':[]}\n",
    "\n",
    "for wc in tqdm(lq1_1211):\n",
    "    # Initialize Wilson object\n",
    "    willy = wilson.Wilson({'lq1_1211': wc}, scale = E_UV, eft = eft_UV, basis = basis_UV)\n",
    "    # Choose RGE evolution scheme ['integrate' or 'leadinglog']\n",
    "    willy.set_option('smeft_accuracy', 'integrate')\n",
    "    # Run and match\n",
    "    wc_i = willy.match_run(scale = e, eft = eft_IR, basis = basis_IR, sectors = 'mue')\n",
    "    for keys in mue_sector:\n",
    "        mue_operator_dict[keys].append(wc_i[keys])\n",
    "\n",
    "# Convert dictionary lists to numpy arrays\n",
    "for keys in mue_sector:\n",
    "        mue_operator_dict[keys] = np.array(mue_operator_dict[keys])"
   ]
  },
  {
   "cell_type": "code",
   "execution_count": 17,
   "id": "85a062b0-8c3a-49af-ab25-b9814f42a193",
   "metadata": {},
   "outputs": [],
   "source": [
    "# Convert to MuonConverter basis\n",
    "mc_mue_operator_dict = JMS_to_muonConverter(mue_operator_dict)"
   ]
  },
  {
   "cell_type": "code",
   "execution_count": 18,
   "id": "18f64b03-e451-427e-928d-a80e251fd5eb",
   "metadata": {},
   "outputs": [],
   "source": [
    "# Create one final conversion dictionary for input\n",
    "mc_dict = {'C51': mc_mue_operator_dict['Tegamma_12'], 'C52': mc_mue_operator_dict['ATegamma_12'], \n",
    "           'C61u': mc_mue_operator_dict['VVeu_1211'], 'C61d': mc_mue_operator_dict['VVed_1211'], 'C61s': mc_mue_operator_dict['VVed_1222'], \n",
    "           'C62u': mc_mue_operator_dict['AVVeu_1211'], 'C62d': mc_mue_operator_dict['AVVed_1211'], 'C62s': mc_mue_operator_dict['AVVed_1222'], \n",
    "           'C63u': mc_mue_operator_dict['VAVeu_1211'], 'C63d': mc_mue_operator_dict['VAVed_1211'], 'C63s': mc_mue_operator_dict['VAVed_1222'], \n",
    "           'C64u': mc_mue_operator_dict['AVAVeu_1211'], 'C64d': mc_mue_operator_dict['AVAVed_1211'], 'C64s': mc_mue_operator_dict['AVAVed_1222'],\n",
    "           'C65u': mc_mue_operator_dict['SSeu_1211'], 'C65d': mc_mue_operator_dict['SSed_1211'], 'C65s': mc_mue_operator_dict['SSed_1222'],\n",
    "           'C67u': mc_mue_operator_dict['ASeu_1211'], 'C67d': mc_mue_operator_dict['ASed_1211'], 'C67s': mc_mue_operator_dict['ASed_1222'],\n",
    "           'C66u': mc_mue_operator_dict['ASeu_1211'], 'C66d': mc_mue_operator_dict['ASed_1211'], 'C66s': mc_mue_operator_dict['ASed_1222'],\n",
    "           'C68u': mc_mue_operator_dict['AAeu_1211'], 'C68d': mc_mue_operator_dict['AAed_1211'], 'C68s': mc_mue_operator_dict['AAed_1222'],\n",
    "           'C69u': mc_mue_operator_dict['TTeu_1211'], 'C69d': mc_mue_operator_dict['TTed_1211'], 'C69s': mc_mue_operator_dict['TTed_1222'],\n",
    "           'C610u': mc_mue_operator_dict['ATTeu_1211'], 'C610d': mc_mue_operator_dict['ATTed_1211'], 'C610s': mc_mue_operator_dict['ATTed_1222']}"
   ]
  },
  {
   "cell_type": "code",
   "execution_count": 19,
   "id": "f4703f82-3c6d-4da9-8972-9ea0c24bcc4d",
   "metadata": {},
   "outputs": [
    {
     "name": "stdout",
     "output_type": "stream",
     "text": [
      "[-1.04086478e-32-5.82660337e-21j  1.05384254e-27+5.88551562e-16j\n",
      "  2.10767785e-27+1.17709730e-15j  3.16151492e-27+1.76564304e-15j\n",
      "  4.21516280e-27+2.35418878e-15j  5.26849235e-27+2.94273453e-15j\n",
      "  6.32298490e-27+3.53128028e-15j  7.37659136e-27+4.11982604e-15j\n",
      "  8.42958752e-27+4.70837181e-15j  9.48361344e-27+5.29691759e-15j\n",
      "  1.05367208e-26+5.88546337e-15j  1.15903367e-26+6.47400917e-15j\n",
      "  1.26453923e-26+7.06255498e-15j  1.36980786e-26+7.65110081e-15j\n",
      "  1.47509767e-26+8.23964665e-15j  1.58068498e-26+8.82819250e-15j\n",
      "  1.68608838e-26+9.41673837e-15j  1.79151448e-26+1.00052843e-14j\n",
      "  1.89660742e-26+1.05938302e-14j  2.00221475e-26+1.11823761e-14j\n",
      "  2.10760731e-26+1.17709221e-14j  2.21298048e-26+1.23594680e-14j\n",
      "  2.31815314e-26+1.29480140e-14j  2.42351034e-26+1.35365601e-14j\n",
      "  2.52912253e-26+1.41251061e-14j  2.63441919e-26+1.47136522e-14j\n",
      "  2.73955093e-26+1.53021983e-14j  2.84497230e-26+1.58907444e-14j\n",
      "  2.95019938e-26+1.64792906e-14j  3.05571570e-26+1.70678368e-14j\n",
      "  3.16148145e-26+1.76563830e-14j  3.26686798e-26+1.82449293e-14j\n",
      "  3.37171570e-26+1.88334756e-14j  3.47731622e-26+1.94220219e-14j\n",
      "  3.58247277e-26+2.00105683e-14j  3.68856120e-26+2.05991147e-14j\n",
      "  3.79343081e-26+2.11876612e-14j  3.89932182e-26+2.17762077e-14j\n",
      "  4.00443700e-26+2.23647542e-14j  4.10980547e-26+2.29533008e-14j\n",
      "  4.21522670e-26+2.35418474e-14j  4.32057367e-26+2.41303941e-14j\n",
      "  4.42560906e-26+2.47189408e-14j  4.53081487e-26+2.53074875e-14j\n",
      "  4.63698288e-26+2.58960343e-14j  4.74227923e-26+2.64845812e-14j\n",
      "  4.84756596e-26+2.70731281e-14j  4.95288342e-26+2.76616751e-14j\n",
      "  5.05793590e-26+2.82502221e-14j  5.16317027e-26+2.88387692e-14j\n",
      "  5.26855708e-26+2.94273163e-14j  5.37358206e-26+3.00158635e-14j\n",
      "  5.47997317e-26+3.06044107e-14j  5.58428776e-26+3.11929580e-14j\n",
      "  5.68988688e-26+3.17815054e-14j  5.79600403e-26+3.23700528e-14j\n",
      "  5.90079146e-26+3.29586003e-14j  6.00601024e-26+3.35471479e-14j\n",
      "  6.11215592e-26+3.41356955e-14j  6.21689063e-26+3.47242432e-14j\n",
      "  6.32284125e-26+3.53127909e-14j  6.42770716e-26+3.59013387e-14j\n",
      "  6.53385362e-26+3.64898866e-14j  6.63927752e-26+3.70784346e-14j\n",
      "  6.74337013e-26+3.76669826e-14j  6.84932571e-26+3.82555307e-14j\n",
      "  6.95428183e-26+3.88440789e-14j  7.05968532e-26+3.94326272e-14j\n",
      "  7.16509195e-26+4.00211755e-14j  7.26995549e-26+4.06097239e-14j\n",
      "  7.37606665e-26+4.11982724e-14j  7.48072547e-26+4.17868209e-14j\n",
      "  7.58664625e-26+4.23753696e-14j  7.69267981e-26+4.29639183e-14j\n",
      "  7.79719305e-26+4.35524671e-14j  7.90395629e-26+4.41410160e-14j\n",
      "  8.00930377e-26+4.47295650e-14j  8.11341662e-26+4.53181140e-14j\n",
      "  8.21883677e-26+4.59066632e-14j  8.32425196e-26+4.64952124e-14j\n",
      "  8.42925592e-26+4.70837618e-14j  8.53573409e-26+4.76723112e-14j\n",
      "  8.64084923e-26+4.82608607e-14j  8.74683698e-26+4.88494103e-14j\n",
      "  8.85126746e-26+4.94379600e-14j  8.95755447e-26+5.00265098e-14j\n",
      "  9.06212561e-26+5.06150597e-14j  9.16826045e-26+5.12036097e-14j\n",
      "  9.27259971e-26+5.17921598e-14j  9.37912946e-26+5.23807100e-14j\n",
      "  9.48442569e-26+5.29692603e-14j  9.58835809e-26+5.35578107e-14j\n",
      "  9.69411334e-26+5.41463612e-14j  9.80074256e-26+5.47349118e-14j\n",
      "  9.90600626e-26+5.53234625e-14j  1.00098407e-25+5.59120133e-14j\n",
      "  1.01155650e-25+5.65005642e-14j  1.02216117e-25+5.70891153e-14j\n",
      "  1.03259750e-25+5.76776664e-14j  1.04320758e-25+5.82662177e-14j]\n"
     ]
    }
   ],
   "source": [
    "print(mc_dict['C66u'])"
   ]
  },
  {
   "cell_type": "code",
   "execution_count": 20,
   "id": "8971a8bb-ced5-4e7d-8713-3d7b3e8ca257",
   "metadata": {},
   "outputs": [
    {
     "name": "stderr",
     "output_type": "stream",
     "text": [
      "100%|██████████████████████████████████| 100/100 [02:51<00:00,  1.71s/it]\n"
     ]
    }
   ],
   "source": [
    "# We can create the relevant yaml file and run the decay rate computation\n",
    "element     = 'Al'\n",
    "isotope     = 0\n",
    "interaction = 'bw'\n",
    "oscb        = 0\n",
    "isochar     = 'proton'\n",
    "plots       = 'none'\n",
    "path = './wcN.yaml'\n",
    "\n",
    "decay_rate = []\n",
    "\n",
    "for i in tqdm(range(100)):\n",
    "    # Grab the ith value from each array in the dictionary \n",
    "    mc_dict_i = {}\n",
    "    for k, v in mc_dict.items():\n",
    "        mc_dict_i[k] = mc_dict[k][i]\n",
    "    # Initialize an instance of the 3-flavor Wilson coefficient class. \n",
    "    wc3f = mu2e_matching.WC_3f(mc_dict_i)\n",
    "    #print('Parton-level Wilson coefficients: ', wc3f.coeff_dict)\n",
    "    \n",
    "    # The main method is to output the NR coefficients. \n",
    "    q = np.array([0., 1.3, 1.2, 1.2])\n",
    "    # Convert to the nucleon basis\n",
    "    wc3f_nucleon = wc3f.match_nucleon_basis(q = q)\n",
    "    # Write out the yaml file\n",
    "    wc3f.write_yaml(q = q, element = element, isotope = isotope, interaction = interaction, oscb = oscb, isochar = isochar, plots = plots, path = path)\n",
    "    # Compute the decay rate\n",
    "    decay_rate.append(compute_decay_rate('wcN.yaml'))"
   ]
  },
  {
   "cell_type": "code",
   "execution_count": 21,
   "id": "4b64cefd-b9d7-4426-807d-deecd99383b1",
   "metadata": {},
   "outputs": [],
   "source": [
    "# Convert decay rates to numpy array\n",
    "decay_rate = np.array(decay_rate)"
   ]
  },
  {
   "cell_type": "code",
   "execution_count": 28,
   "id": "186c7855-e826-4797-9b2f-543100605385",
   "metadata": {},
   "outputs": [
    {
     "data": {
      "image/png": "[encoded data removed]",
      "text/plain": [
       "<Figure size 600x500 with 1 Axes>"
      ]
     },
     "metadata": {},
     "output_type": "display_data"
    }
   ],
   "source": [
    "# Convert decay rates to numpy array\n",
    "decay_rate = np.array(decay_rate)\n",
    "\n",
    "fig, ax = plt.subplots(1,1,figsize=(6,5))\n",
    "ax.plot(lq1_1211, decay_rate)\n",
    "ax.set_xlabel(r'$\\mathtt{lq1\\_1211}_{\\mathrm{UV}}$')\n",
    "ax.set_ylabel(r'$\\Gamma(\\mu \\rightarrow e)$')\n",
    "ax.set_yscale('log')\n",
    "ax.set_xscale('log')"
   ]
  },
  {
   "cell_type": "code",
   "execution_count": null,
   "id": "3575a373-fa31-4cae-a40a-0b66bd7a675d",
   "metadata": {},
   "outputs": [],
   "source": []
  }
 ],
 "metadata": {
  "kernelspec": {
   "display_name": "Python 3 (ipykernel)",
   "language": "python",
   "name": "python3"
  },
  "language_info": {
   "codemirror_mode": {
    "name": "ipython",
    "version": 3
   },
   "file_extension": ".py",
   "mimetype": "text/x-python",
   "name": "python",
   "nbconvert_exporter": "python",
   "pygments_lexer": "ipython3",
   "version": "3.9.16"
  }
 },
 "nbformat": 4,
 "nbformat_minor": 5
}
